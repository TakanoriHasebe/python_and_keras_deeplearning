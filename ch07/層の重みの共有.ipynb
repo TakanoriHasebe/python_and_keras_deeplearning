{
 "cells": [
  {
   "cell_type": "markdown",
   "metadata": {},
   "source": [
    "### 層の重みの共有"
   ]
  },
  {
   "cell_type": "markdown",
   "metadata": {},
   "source": [
    "Functional APIのより重要な特徴の１つは、層のインスタンスを繰り返し再利用できること。<br>\n",
    "層のインスタンスを2回目に呼び出すときには、新しいインスタンスを作成するのではなく、<br>\n",
    "同じ重みを再利用することになる。<br>"
   ]
  },
  {
   "cell_type": "markdown",
   "metadata": {},
   "source": [
    "複数の分岐を共有するモデルを構築できるようになる。<br>\n",
    "それらの分岐は全て同じ知識を共有し、同じ演算を実行する。<br>\n",
    "つまり、それらのモデルは同じ表現を共有し、様々な入力に基づいてそれらの表現を同時に学習する。<br>"
   ]
  },
  {
   "cell_type": "markdown",
   "metadata": {},
   "source": [
    "### 例"
   ]
  },
  {
   "cell_type": "markdown",
   "metadata": {},
   "source": [
    "２つの文章の意味的な類似性を評価するモデルがあるとする。<br>\n",
    "このモデルは、入力として（比較の対象となる）２つの文章を受け取り、出力として0〜1のスコアを返す。<br>\n",
    "この場合、0が文章に関連性がないとし、１は文章が全く同じであるか、同じ文章の組み換えであることを意味する。<br>"
   ]
  },
  {
   "cell_type": "markdown",
   "metadata": {},
   "source": [
    "よって、２つの入力文章を処理するために２つのモデルを別々に学習することは合理的でない。<br>\n",
    "それよりも単一のLSTM層で両方の入力を処理した方が良さそう。<br>\n",
    "このLSTM層の表現（重み）は、両方の学習に基づいて同時に学習される。<br>"
   ]
  },
  {
   "cell_type": "markdown",
   "metadata": {},
   "source": [
    "### 実装"
   ]
  },
  {
   "cell_type": "code",
   "execution_count": null,
   "metadata": {},
   "outputs": [],
   "source": [
    "from keras import layers\n",
    "from keras import Input\n",
    "from keras.models import Model\n",
    "\n",
    "# 単一のLSTM層を一度だけインスタンス化\n",
    "lstm = layers.LSTM(32)\n",
    "\n",
    "# モデルの左側の分岐を構築\n",
    "# 入力はサイズが128のベクトルからなる可変長のシーケンス\n",
    "left_input = Input(shape=(None, 128))\n",
    "left_output = lstm(left_input)\n",
    "\n",
    "# モデルの右側の分岐を構築\n",
    "# 既存の層のインスタンスを呼び出すと、その重みを再利用できる\n",
    "right_input = Input(shape=(None, 128))\n",
    "right_output = lstm(right_input)\n",
    "\n",
    "# 最後に分類器を構築\n",
    "merged = layers.concatenate([left_output, right_output], axis=-1)\n",
    "predictions = layers.Dense(1, activation='sigmoid')(merged)\n",
    "\n",
    "# モデルのインスタンス化と訓練 : \n",
    "# このようなモデルを訓練するときには、\n",
    "# LSTM層の重みが両方の入力に基づいて更新される\n",
    "model = Model([left_input, right_input], predictions)\n",
    "model.fit([left_data, right_data], targets)"
   ]
  }
 ],
 "metadata": {
  "kernelspec": {
   "display_name": "Python 3",
   "language": "python",
   "name": "python3"
  },
  "language_info": {
   "codemirror_mode": {
    "name": "ipython",
    "version": 3
   },
   "file_extension": ".py",
   "mimetype": "text/x-python",
   "name": "python",
   "nbconvert_exporter": "python",
   "pygments_lexer": "ipython3",
   "version": "3.6.6"
  }
 },
 "nbformat": 4,
 "nbformat_minor": 2
}
