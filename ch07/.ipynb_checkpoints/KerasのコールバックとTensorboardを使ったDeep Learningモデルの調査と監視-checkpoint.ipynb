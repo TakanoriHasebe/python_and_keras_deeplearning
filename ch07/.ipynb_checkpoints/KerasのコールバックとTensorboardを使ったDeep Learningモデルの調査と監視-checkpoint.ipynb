{
 "cells": [
  {
   "cell_type": "markdown",
   "metadata": {},
   "source": [
    "### KerasのコールバックとTensorboardを使ったDeep Learningモデルの調査と監視"
   ]
  },
  {
   "cell_type": "markdown",
   "metadata": {},
   "source": [
    "検証データでの損失値の改善が認められなくなった時点で、訓練を中止すること。<br>\n",
    "これを可能にするのが、Kerasのコールバックである。<br>"
   ]
  },
  {
   "cell_type": "markdown",
   "metadata": {},
   "source": [
    "### コールバックの使用例"
   ]
  },
  {
   "cell_type": "markdown",
   "metadata": {},
   "source": [
    "<ul>\n",
    "    <li>モデルのチェックポイント化 : 訓練中の様々な時点でモデルの現在の重みを保存。</li>\n",
    "    <li>訓練の中止 : 検証データでのでの損失値がそれ以上改善しなくなった時点で訓練を中止。</li>\n",
    "    <li>特定のパラメータの動的な調整 : 学習率などを動的に調整。</li>\n",
    "    <li>訓練と検証の指標を記録 : 訓練と検証の指標をログに記録。</li>\n",
    "</ul>"
   ]
  },
  {
   "cell_type": "markdown",
   "metadata": {},
   "source": [
    "ModelCheckpoit, EarlyStopping, ReduceLROnPlateauの３つについて見ていく。<br> "
   ]
  },
  {
   "cell_type": "markdown",
   "metadata": {},
   "source": [
    "### ModelCheckpointコールバックとEarlystoppingコールバックについて"
   ]
  },
  {
   "cell_type": "markdown",
   "metadata": {},
   "source": [
    "監視している成果指標が一定のエポック数に渡って改善されなかった場合は、<br>\n",
    "EarlyStoppingコールバックを使って訓練を中止できる。<br>\n",
    "例えば、過学習が始まったらすぐに訓練を中止できるため、エポック数を減らした上でモデルを再び訓練する必要性がなくなる。<br>"
   ]
  },
  {
   "cell_type": "markdown",
   "metadata": {},
   "source": [
    "このコールバックはModelCheckpointと併用される。<br>\n",
    "ModelCheckpointは訓練中にモデルを繰り返し保存できる。<br>"
   ]
  },
  {
   "cell_type": "code",
   "execution_count": 1,
   "metadata": {},
   "outputs": [
    {
     "name": "stderr",
     "output_type": "stream",
     "text": [
      "/Users/Takanori/anaconda/lib/python3.6/site-packages/h5py/__init__.py:36: FutureWarning: Conversion of the second argument of issubdtype from `float` to `np.floating` is deprecated. In future, it will be treated as `np.float64 == np.dtype(float).type`.\n",
      "  from ._conv import register_converters as _register_converters\n",
      "Using TensorFlow backend.\n"
     ]
    },
    {
     "ename": "NameError",
     "evalue": "name 'model' is not defined",
     "output_type": "error",
     "traceback": [
      "\u001b[0;31m---------------------------------------------------------------------------\u001b[0m",
      "\u001b[0;31mNameError\u001b[0m                                 Traceback (most recent call last)",
      "\u001b[0;32m<ipython-input-1-2e3c28c19d50>\u001b[0m in \u001b[0;36m<module>\u001b[0;34m()\u001b[0m\n\u001b[1;32m     18\u001b[0m ]\n\u001b[1;32m     19\u001b[0m \u001b[0;34m\u001b[0m\u001b[0m\n\u001b[0;32m---> 20\u001b[0;31m model.compile(\n\u001b[0m\u001b[1;32m     21\u001b[0m     \u001b[0moptimizer\u001b[0m \u001b[0;34m=\u001b[0m \u001b[0;34m'rmsprop'\u001b[0m\u001b[0;34m,\u001b[0m\u001b[0;34m\u001b[0m\u001b[0m\n\u001b[1;32m     22\u001b[0m     \u001b[0mloss\u001b[0m \u001b[0;34m=\u001b[0m \u001b[0;34m'binary_crossentropy'\u001b[0m\u001b[0;34m,\u001b[0m\u001b[0;34m\u001b[0m\u001b[0m\n",
      "\u001b[0;31mNameError\u001b[0m: name 'model' is not defined"
     ]
    }
   ],
   "source": [
    "import keras\n",
    "\n",
    "# コールバックはfitのcallbacksパラメータを通じてモデルに渡される。\n",
    "# このパラメータは引数としてコールバックのリストを受け取る。\n",
    "# コールバックは幾つ使用しても大丈夫\n",
    "callbacks_list = [\n",
    "    # 改善が止まったら訓練を中止\n",
    "    keras.callbacks.EarlyStopping(\n",
    "        monitor = 'val_acc', # 検証データでのモデルの正解率を監視\n",
    "        patience = 1, # 2エポック以上に渡って正解率が改善しなければ、訓練を中止\n",
    "    ),\n",
    "    # エポックごとに現在の重みを保存\n",
    "    keras.callbacks.ModelCheckpoint(\n",
    "        filepath = 'my_model.h5', # モデルの保存先\n",
    "        monitor = 'val_loss', \n",
    "        save_best_only = True\n",
    "    )\n",
    "]\n",
    "\n",
    "model.compile(\n",
    "    optimizer = 'rmsprop',\n",
    "    loss = 'binary_crossentropy',\n",
    "    metrics = ['acc']\n",
    ")\n",
    "\n",
    "model.fit(x, y,\n",
    "    epochs = 10,\n",
    "    batch_size = 32,\n",
    "    callbacks = callbacks_list,\n",
    "    validation_data = (x_val, y_val)\n",
    ")"
   ]
  },
  {
   "cell_type": "markdown",
   "metadata": {},
   "source": [
    "### ReduceLROnPlateauコールバック"
   ]
  },
  {
   "cell_type": "markdown",
   "metadata": {},
   "source": [
    "検証データでの損失値がそれ以上改善しなくなった場合は、<br>\n",
    "コールバックを使って動的に学習率を引き下げることができる。<br>"
   ]
  },
  {
   "cell_type": "code",
   "execution_count": 2,
   "metadata": {},
   "outputs": [],
   "source": [
    "callbacks_list = [\n",
    "    keras.callbacks.ReduceLROnPlateau(\n",
    "        monitor = 'vall_loss', # モデルの検証データセットでの損失値を監視\n",
    "        factor = 0.1, # コールバックが起動したら学習率を10でわる\n",
    "        patience = 10 # 検証データでの損失値が10エポックに渡って、改善しなかった場合はコールバックを起動\n",
    "    )\n",
    "]\n",
    "\n",
    "model.fit(x, y, \n",
    "         epochs=10,\n",
    "          batch_size=32, \n",
    "            callbacks=callbacks_list,\n",
    "          validation_data=(x_val, y_val)\n",
    "         )"
   ]
  },
  {
   "cell_type": "code",
   "execution_count": null,
   "metadata": {},
   "outputs": [],
   "source": []
  }
 ],
 "metadata": {
  "kernelspec": {
   "display_name": "Python 3",
   "language": "python",
   "name": "python3"
  },
  "language_info": {
   "codemirror_mode": {
    "name": "ipython",
    "version": 3
   },
   "file_extension": ".py",
   "mimetype": "text/x-python",
   "name": "python",
   "nbconvert_exporter": "python",
   "pygments_lexer": "ipython3",
   "version": "3.6.6"
  }
 },
 "nbformat": 4,
 "nbformat_minor": 2
}
