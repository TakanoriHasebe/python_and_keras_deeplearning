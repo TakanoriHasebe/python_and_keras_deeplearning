{
 "cells": [
  {
   "cell_type": "markdown",
   "metadata": {},
   "source": [
    "### モデルのアンサンブル"
   ]
  },
  {
   "cell_type": "markdown",
   "metadata": {},
   "source": [
    "分類器のアンサンブルを作成するスマートな方法は、荷重平均を求めること。<br>\n",
    "この場合、重みは検証データから学習される。<br>\n",
    "一般に分類器の性能が良いほど重みの値は大きくなり、分類器の性能が悪いほど重みの値は小さくなる。<br>"
   ]
  },
  {
   "cell_type": "markdown",
   "metadata": {},
   "source": [
    "アンサンブルを構成するモデルは「できるだけ良いモデル」であると同時に「できるだけ異なるモデル」である必要がある。<br>"
   ]
  },
  {
   "cell_type": "markdown",
   "metadata": {},
   "source": [
    "実際にうまくいくと筆者が考えている手法の１つは、<br>\n",
    "ランダムフォレストや勾配ブースティング木といった決定木ベースの手法とディープニューラルネットワークのアンサンブル。<br>"
   ]
  },
  {
   "cell_type": "markdown",
   "metadata": {},
   "source": [
    "アンサンブルにおいて肝心なのは、モデル候補の性能がどれくらい良いかではなく、<br>\n",
    "多様性にある。<br>"
   ]
  },
  {
   "cell_type": "markdown",
   "metadata": {},
   "source": [
    "実際のところ大きな成功を収めているアンサンブルの基本スタイルの１つは、<br>\n",
    "ディープラニングとシャローラーニングを融合した「Wide and Deep」カテゴリのモデル。<br>"
   ]
  }
 ],
 "metadata": {
  "kernelspec": {
   "display_name": "Python 3",
   "language": "python",
   "name": "python3"
  },
  "language_info": {
   "codemirror_mode": {
    "name": "ipython",
    "version": 3
   },
   "file_extension": ".py",
   "mimetype": "text/x-python",
   "name": "python",
   "nbconvert_exporter": "python",
   "pygments_lexer": "ipython3",
   "version": "3.6.6"
  }
 },
 "nbformat": 4,
 "nbformat_minor": 2
}
