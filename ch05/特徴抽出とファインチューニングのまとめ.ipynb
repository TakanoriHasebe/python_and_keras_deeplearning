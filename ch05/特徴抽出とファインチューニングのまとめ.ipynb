{
 "cells": [
  {
   "cell_type": "markdown",
   "metadata": {},
   "source": [
    "## まとめ"
   ]
  },
  {
   "cell_type": "markdown",
   "metadata": {},
   "source": [
    "1. CNNはコンピュータビジョンのタスクに最適な機械学習モデル。<br>\n",
    "2. データ拡張は過学習に対抗するための強力な手段。<br>\n",
    "3. 特徴抽出を利用すると、既存のCNNを新しいデータセットで簡単に再利用可能。<br>\n",
    "4. 特徴抽出の補完にファインチューニングを利用可能。<br>"
   ]
  }
 ],
 "metadata": {
  "kernelspec": {
   "display_name": "Python 3",
   "language": "python",
   "name": "python3"
  },
  "language_info": {
   "codemirror_mode": {
    "name": "ipython",
    "version": 3
   },
   "file_extension": ".py",
   "mimetype": "text/x-python",
   "name": "python",
   "nbconvert_exporter": "python",
   "pygments_lexer": "ipython3",
   "version": "3.6.1"
  }
 },
 "nbformat": 4,
 "nbformat_minor": 2
}
