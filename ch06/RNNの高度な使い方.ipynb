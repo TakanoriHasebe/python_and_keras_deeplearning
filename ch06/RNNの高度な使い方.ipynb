{
 "cells": [
  {
   "cell_type": "markdown",
   "metadata": {},
   "source": [
    "### リカレントニューラルネットワークの高度な使い方"
   ]
  },
  {
   "cell_type": "markdown",
   "metadata": {},
   "source": [
    "気温、気圧、湿度といった時系列データから２４時間後の気温を予測する。<br>\n",
    "これは難易度の高い問題であり、時系列データを扱うときに苦労する部分が実際に明らかになる。<br>"
   ]
  },
  {
   "cell_type": "markdown",
   "metadata": {},
   "source": [
    "### ここで取り上げる方法"
   ]
  },
  {
   "cell_type": "markdown",
   "metadata": {},
   "source": [
    "<ul>\n",
    "    <li>リカレントドロップアウト : リカレント層でドロップアウトを使って過学習に対抗。</li>\n",
    "    <li>リカレント層のスタッキング : ネットワークの表現力を高める。</li>\n",
    "    <li>双方向のリカレント層 : 同じ情報をさまざまな方法でRNNに提供し、正解率を向上させ、忘却の問題に対処。</li>\n",
    "</ul>"
   ]
  },
  {
   "cell_type": "markdown",
   "metadata": {},
   "source": [
    "### 気温予測問題"
   ]
  },
  {
   "cell_type": "markdown",
   "metadata": {},
   "source": [
    "データセットは、14種類の数値（気温、気圧、湿度、風向など）を１０分おきに記録した数年分のデータセットで構成されている。<br>\n",
    "このデータセットを使用して、最近のデータを入力として受け取り、２４時間後の気温を予測する。<br>"
   ]
  },
  {
   "cell_type": "markdown",
   "metadata": {},
   "source": [
    "### データの調査"
   ]
  },
  {
   "cell_type": "code",
   "execution_count": 1,
   "metadata": {},
   "outputs": [],
   "source": [
    "# 気象データセットの調査\n",
    "import os\n",
    "\n",
    "data_dir = '/Users/Takanori/Downloads/jena_climate'\n",
    "fname = os.path.join(data_dir, 'jena_climate_2009_2016.csv')"
   ]
  },
  {
   "cell_type": "code",
   "execution_count": 2,
   "metadata": {},
   "outputs": [],
   "source": [
    "# Pandasで表示してみる\n",
    "import pandas as pd\n",
    "df = pd.read_csv(fname)"
   ]
  },
  {
   "cell_type": "code",
   "execution_count": 3,
   "metadata": {},
   "outputs": [
    {
     "data": {
      "text/html": [
       "<div>\n",
       "<style scoped>\n",
       "    .dataframe tbody tr th:only-of-type {\n",
       "        vertical-align: middle;\n",
       "    }\n",
       "\n",
       "    .dataframe tbody tr th {\n",
       "        vertical-align: top;\n",
       "    }\n",
       "\n",
       "    .dataframe thead th {\n",
       "        text-align: right;\n",
       "    }\n",
       "</style>\n",
       "<table border=\"1\" class=\"dataframe\">\n",
       "  <thead>\n",
       "    <tr style=\"text-align: right;\">\n",
       "      <th></th>\n",
       "      <th>Date Time</th>\n",
       "      <th>p (mbar)</th>\n",
       "      <th>T (degC)</th>\n",
       "      <th>Tpot (K)</th>\n",
       "      <th>Tdew (degC)</th>\n",
       "      <th>rh (%)</th>\n",
       "      <th>VPmax (mbar)</th>\n",
       "      <th>VPact (mbar)</th>\n",
       "      <th>VPdef (mbar)</th>\n",
       "      <th>sh (g/kg)</th>\n",
       "      <th>H2OC (mmol/mol)</th>\n",
       "      <th>rho (g/m**3)</th>\n",
       "      <th>wv (m/s)</th>\n",
       "      <th>max. wv (m/s)</th>\n",
       "      <th>wd (deg)</th>\n",
       "    </tr>\n",
       "  </thead>\n",
       "  <tbody>\n",
       "    <tr>\n",
       "      <th>0</th>\n",
       "      <td>01.01.2009 00:10:00</td>\n",
       "      <td>996.52</td>\n",
       "      <td>-8.02</td>\n",
       "      <td>265.40</td>\n",
       "      <td>-8.90</td>\n",
       "      <td>93.3</td>\n",
       "      <td>3.33</td>\n",
       "      <td>3.11</td>\n",
       "      <td>0.22</td>\n",
       "      <td>1.94</td>\n",
       "      <td>3.12</td>\n",
       "      <td>1307.75</td>\n",
       "      <td>1.03</td>\n",
       "      <td>1.75</td>\n",
       "      <td>152.3</td>\n",
       "    </tr>\n",
       "    <tr>\n",
       "      <th>1</th>\n",
       "      <td>01.01.2009 00:20:00</td>\n",
       "      <td>996.57</td>\n",
       "      <td>-8.41</td>\n",
       "      <td>265.01</td>\n",
       "      <td>-9.28</td>\n",
       "      <td>93.4</td>\n",
       "      <td>3.23</td>\n",
       "      <td>3.02</td>\n",
       "      <td>0.21</td>\n",
       "      <td>1.89</td>\n",
       "      <td>3.03</td>\n",
       "      <td>1309.80</td>\n",
       "      <td>0.72</td>\n",
       "      <td>1.50</td>\n",
       "      <td>136.1</td>\n",
       "    </tr>\n",
       "    <tr>\n",
       "      <th>2</th>\n",
       "      <td>01.01.2009 00:30:00</td>\n",
       "      <td>996.53</td>\n",
       "      <td>-8.51</td>\n",
       "      <td>264.91</td>\n",
       "      <td>-9.31</td>\n",
       "      <td>93.9</td>\n",
       "      <td>3.21</td>\n",
       "      <td>3.01</td>\n",
       "      <td>0.20</td>\n",
       "      <td>1.88</td>\n",
       "      <td>3.02</td>\n",
       "      <td>1310.24</td>\n",
       "      <td>0.19</td>\n",
       "      <td>0.63</td>\n",
       "      <td>171.6</td>\n",
       "    </tr>\n",
       "    <tr>\n",
       "      <th>3</th>\n",
       "      <td>01.01.2009 00:40:00</td>\n",
       "      <td>996.51</td>\n",
       "      <td>-8.31</td>\n",
       "      <td>265.12</td>\n",
       "      <td>-9.07</td>\n",
       "      <td>94.2</td>\n",
       "      <td>3.26</td>\n",
       "      <td>3.07</td>\n",
       "      <td>0.19</td>\n",
       "      <td>1.92</td>\n",
       "      <td>3.08</td>\n",
       "      <td>1309.19</td>\n",
       "      <td>0.34</td>\n",
       "      <td>0.50</td>\n",
       "      <td>198.0</td>\n",
       "    </tr>\n",
       "    <tr>\n",
       "      <th>4</th>\n",
       "      <td>01.01.2009 00:50:00</td>\n",
       "      <td>996.51</td>\n",
       "      <td>-8.27</td>\n",
       "      <td>265.15</td>\n",
       "      <td>-9.04</td>\n",
       "      <td>94.1</td>\n",
       "      <td>3.27</td>\n",
       "      <td>3.08</td>\n",
       "      <td>0.19</td>\n",
       "      <td>1.92</td>\n",
       "      <td>3.09</td>\n",
       "      <td>1309.00</td>\n",
       "      <td>0.32</td>\n",
       "      <td>0.63</td>\n",
       "      <td>214.3</td>\n",
       "    </tr>\n",
       "  </tbody>\n",
       "</table>\n",
       "</div>"
      ],
      "text/plain": [
       "             Date Time  p (mbar)  T (degC)  Tpot (K)  Tdew (degC)  rh (%)  \\\n",
       "0  01.01.2009 00:10:00    996.52     -8.02    265.40        -8.90    93.3   \n",
       "1  01.01.2009 00:20:00    996.57     -8.41    265.01        -9.28    93.4   \n",
       "2  01.01.2009 00:30:00    996.53     -8.51    264.91        -9.31    93.9   \n",
       "3  01.01.2009 00:40:00    996.51     -8.31    265.12        -9.07    94.2   \n",
       "4  01.01.2009 00:50:00    996.51     -8.27    265.15        -9.04    94.1   \n",
       "\n",
       "   VPmax (mbar)  VPact (mbar)  VPdef (mbar)  sh (g/kg)  H2OC (mmol/mol)  \\\n",
       "0          3.33          3.11          0.22       1.94             3.12   \n",
       "1          3.23          3.02          0.21       1.89             3.03   \n",
       "2          3.21          3.01          0.20       1.88             3.02   \n",
       "3          3.26          3.07          0.19       1.92             3.08   \n",
       "4          3.27          3.08          0.19       1.92             3.09   \n",
       "\n",
       "   rho (g/m**3)  wv (m/s)  max. wv (m/s)  wd (deg)  \n",
       "0       1307.75      1.03           1.75     152.3  \n",
       "1       1309.80      0.72           1.50     136.1  \n",
       "2       1310.24      0.19           0.63     171.6  \n",
       "3       1309.19      0.34           0.50     198.0  \n",
       "4       1309.00      0.32           0.63     214.3  "
      ]
     },
     "execution_count": 3,
     "metadata": {},
     "output_type": "execute_result"
    }
   ],
   "source": [
    "df.head(5)"
   ]
  },
  {
   "cell_type": "code",
   "execution_count": 4,
   "metadata": {},
   "outputs": [],
   "source": [
    "# ファイルの読み込み\n",
    "f = open(fname)\n",
    "data = f.read()\n",
    "f.close()"
   ]
  },
  {
   "cell_type": "code",
   "execution_count": 5,
   "metadata": {},
   "outputs": [
    {
     "data": {
      "text/plain": [
       "'\"Date Time\",\"p (mbar)\",\"T (degC)\",\"Tpot (K)\",\"Tdew (degC)\",\"rh (%)\",\"VPmax (mbar)\",\"VPact (mbar)\",\"VPdef (mbar)\",\"sh (g/kg)\",\"H2OC (mmol/mol)\",\"rho (g/m**3)\",\"wv (m/s)\",\"max. wv (m/s)\",\"wd (deg)\"\\n01.0'"
      ]
     },
     "execution_count": 5,
     "metadata": {},
     "output_type": "execute_result"
    }
   ],
   "source": [
    "# 読み込んだファイルの確認\n",
    "data[:200]"
   ]
  },
  {
   "cell_type": "code",
   "execution_count": 6,
   "metadata": {},
   "outputs": [
    {
     "name": "stdout",
     "output_type": "stream",
     "text": [
      "420552\n",
      "195\n",
      "\"Date Time\",\"p (mbar)\",\"T (degC)\",\"Tpot (K)\",\"Tdew (degC)\",\"rh (%)\",\"VPmax (mbar)\",\"VPact (mbar)\",\"VPdef (mbar)\",\"sh (g/kg)\",\"H2OC (mmol/mol)\",\"rho (g/m**3)\",\"wv (m/s)\",\"max. wv (m/s)\",\"wd (deg)\"\n"
     ]
    }
   ],
   "source": [
    "# 改行で配列を作成\n",
    "lines = data.split('\\n')\n",
    "print(len(lines))\n",
    "print(len(lines[0]))\n",
    "print(lines[0])"
   ]
  },
  {
   "cell_type": "code",
   "execution_count": 7,
   "metadata": {},
   "outputs": [],
   "source": [
    "# 見出しの配列の作成\n",
    "header = lines[0].split(',')\n",
    "lines = lines[1:]"
   ]
  },
  {
   "cell_type": "code",
   "execution_count": 8,
   "metadata": {},
   "outputs": [
    {
     "name": "stdout",
     "output_type": "stream",
     "text": [
      "['\"Date Time\"', '\"p (mbar)\"', '\"T (degC)\"', '\"Tpot (K)\"', '\"Tdew (degC)\"', '\"rh (%)\"', '\"VPmax (mbar)\"', '\"VPact (mbar)\"', '\"VPdef (mbar)\"', '\"sh (g/kg)\"', '\"H2OC (mmol/mol)\"', '\"rho (g/m**3)\"', '\"wv (m/s)\"', '\"max. wv (m/s)\"', '\"wd (deg)\"']\n",
      "420551\n"
     ]
    }
   ],
   "source": [
    "print(header)\n",
    "print(len(lines))"
   ]
  },
  {
   "cell_type": "code",
   "execution_count": 9,
   "metadata": {},
   "outputs": [],
   "source": [
    "# データをNumpy配列に変換\n",
    "import numpy as np\n",
    "\n",
    "# 日付を抜いている\n",
    "float_data = np.zeros((len(lines), len(header) - 1))\n",
    "for i, line in enumerate(lines):\n",
    "    values = [float(x) for x in line.split(',')[1:]]\n",
    "    float_data[i, : ] = values"
   ]
  },
  {
   "cell_type": "code",
   "execution_count": 10,
   "metadata": {},
   "outputs": [
    {
     "data": {
      "image/png": "[encoded data removed]",
      "text/plain": [
       "<Figure size 432x288 with 1 Axes>"
      ]
     },
     "metadata": {},
     "output_type": "display_data"
    }
   ],
   "source": [
    "# 気温の時系列データのプロット\n",
    "from matplotlib import pyplot as plt\n",
    "%matplotlib inline\n",
    "\n",
    "temp = float_data[:, 1]\n",
    "plt.plot(range(len(temp)), temp)\n",
    "plt.show()"
   ]
  },
  {
   "cell_type": "markdown",
   "metadata": {},
   "source": [
    "このデータは10分おきに記録されるため、1日あたりのデータ点は144個。<br>"
   ]
  },
  {
   "cell_type": "code",
   "execution_count": 11,
   "metadata": {},
   "outputs": [
    {
     "data": {
      "image/png": "[encoded data removed]",
      "text/plain": [
       "<Figure size 432x288 with 1 Axes>"
      ]
     },
     "metadata": {},
     "output_type": "display_data"
    }
   ],
   "source": [
    "# 最初の10日間の気温データのプロット\n",
    "plt.plot(range(1440), temp[:1440])\n",
    "plt.show()"
   ]
  },
  {
   "cell_type": "markdown",
   "metadata": {},
   "source": [
    "## データの準備"
   ]
  },
  {
   "cell_type": "markdown",
   "metadata": {},
   "source": [
    "この問題を定式化すると以下のようになる。<br>\n",
    "lookback時間刻みに遡るデータが存在し、steps時間刻みごとにサンプリング、delay時間刻みの気温を予測。<br>\n",
    "lookback = 720　…　過去５日分の観測データ<br>\n",
    "steps = 6 …　観測データは１時間あたり１データ点の割合で観測<br>\n",
    "delay = 144　… 目的地は24時間後の気温<br>"
   ]
  },
  {
   "cell_type": "markdown",
   "metadata": {},
   "source": [
    "### データの前処理を行い、ニューラルネットワークに読み込めるフォーマットにする"
   ]
  },
  {
   "cell_type": "markdown",
   "metadata": {},
   "source": [
    "<ol>\n",
    "    <li>各時系列を個別に正規化。</li>\n",
    "    <li>Pythonジェネレータの記述 : 最近のデータと目的値（将来の気温）からなるバッチを生成。<br>\n",
    "         サンプル$N$とサンプル$N+1$の時間刻みは、ほとんど共通。<br>\n",
    "        そこで、元のデータを使ってサンプルをその場で生成。<br>\n",
    "    </li>\n",
    "</ol>"
   ]
  },
  {
   "cell_type": "markdown",
   "metadata": {},
   "source": [
    "#### データの正規化"
   ]
  },
  {
   "cell_type": "code",
   "execution_count": 12,
   "metadata": {},
   "outputs": [],
   "source": [
    "mean = float_data[:200000].mean(axis=0)\n",
    "float_data -= mean\n",
    "std = float_data[:200000].std(axis=0)\n",
    "float_data /= std"
   ]
  },
  {
   "cell_type": "markdown",
   "metadata": {},
   "source": [
    "#### データジェネレータ"
   ]
  },
  {
   "cell_type": "markdown",
   "metadata": {},
   "source": [
    "ジェネレータが生成するのはタプル（samples, targets）である。<br>\n",
    "ジェネレータは以下の8つの引数を受け取る。<br>"
   ]
  },
  {
   "cell_type": "markdown",
   "metadata": {},
   "source": [
    "<ul>\n",
    "    <li>data : 元の浮動小数点型のデータからなる配列</li>\n",
    "    <li>lookback : 入力データの時間刻みをいくつか遡る。</li>\n",
    "    <li>delay : 目的値の時間刻みをいくつか進める。</li>\n",
    "    <li>min_index, max_index : データの一部を検証とテストのために取っておくのに役立つ。</li>\n",
    "    <li>shuffle : サンプルをシャッフルするのか、それとも時間順序で抽出するのか。</li>\n",
    "    <li>batch_size : バッチ１つあたりのサンプル数。</li>\n",
    "    <li>step : データをサンプリングするときの期間。データ点を1時間ごとに１つ抽出するために6に設定</li>\n",
    "</ul>"
   ]
  },
  {
   "cell_type": "code",
   "execution_count": 13,
   "metadata": {},
   "outputs": [],
   "source": [
    "# 時系列サンプルとそれらの目的値を生成するジェネレータ\n",
    "def generator(data, lookback, delay, min_index, max_index, shuffle=False, batch_size=128, step=6):\n",
    "    if max_index is None:\n",
    "        max_index = len(data) - delay - 1\n",
    "    i = min_index + lookback\n",
    "    while 1:\n",
    "        if shuffle:\n",
    "            rows = np.random.randint(min_index + lookback, max_index, size=batch_size)\n",
    "        else:\n",
    "            if i + batch_size >= max_index:\n",
    "                i = min_index + lookback\n",
    "            rows = np.arange(i, min(i + batch_size, max_index))\n",
    "            i += len(rows)\n",
    "            \n",
    "        samples = np.zeros((len(rows), lookback // step, data.shape[-1]))\n",
    "        targets = np.zeros((len(rows), ))\n",
    "        for j, row in enumerate(rows):\n",
    "            indices = range(rows[j] - lookback, rows[j], step)\n",
    "            samples[j] = data[indices]\n",
    "            targets[j] = data[rows[j] + delay][1]\n",
    "        yield samples, targets"
   ]
  },
  {
   "cell_type": "code",
   "execution_count": 14,
   "metadata": {},
   "outputs": [],
   "source": [
    "lookback = 1440\n",
    "step = 6\n",
    "delay = 144\n",
    "batch_size = 128\n",
    "\n",
    "# 訓練ジェネレータ\n",
    "train_gen = generator(float_data,\n",
    "                      lookback=lookback,\n",
    "                      delay=delay,\n",
    "                      min_index=0,\n",
    "                      max_index=200000,\n",
    "                      shuffle=True,\n",
    "                      step=step, \n",
    "                      batch_size=batch_size)\n",
    "\n",
    "# 検証ジェネレータ\n",
    "val_gen = generator(float_data,\n",
    "                    lookback=lookback,\n",
    "                    delay=delay,\n",
    "                    min_index=200001,\n",
    "                    max_index=300000,\n",
    "                    step=step,\n",
    "                    batch_size=batch_size)\n",
    "\n",
    "# テストジェネレータ\n",
    "test_gen = generator(float_data,\n",
    "                     lookback=lookback,\n",
    "                     delay=delay,\n",
    "                     min_index=300001,\n",
    "                     max_index=None,\n",
    "                     step=step,\n",
    "                     batch_size=batch_size)\n",
    "\n",
    "# 検証データセット全体を調べるためにval_genから抽出する時間刻みの数\n",
    "val_steps = (300000 - 200001 - lookback) // batch_size\n",
    "\n",
    "# テストデータセット全体を調べるためにtest_genから抽出する時間刻みの数\n",
    "test_steps = (len(float_data) - 300001 - lookback) // batch_size"
   ]
  },
  {
   "cell_type": "markdown",
   "metadata": {},
   "source": [
    "#### 機械学習とは別の、常識的なベースライン"
   ]
  },
  {
   "cell_type": "markdown",
   "metadata": {},
   "source": [
    "クラスA、クラスBが存在しクラスAが90%を占めていた場合、<br>\n",
    "クラスAと判断すると正解率は90%。<br>\n",
    "この場合も同様に、常識的なアプローチでは、常に、２４時間後の気温が現在と同じになると予測。<br>"
   ]
  },
  {
   "cell_type": "code",
   "execution_count": 15,
   "metadata": {},
   "outputs": [],
   "source": [
    "def evaluate_naive_method():\n",
    "    batch_maes = []\n",
    "    for step in range(val_steps):\n",
    "        samples, targets = next(val_gen)\n",
    "        preds = samples[:, -1, 1]\n",
    "        mae = np.mean(np.abs(preds - targets))\n",
    "        batch_maes.append(mae)\n",
    "    print(np.mean(batch_maes))"
   ]
  },
  {
   "cell_type": "code",
   "execution_count": 16,
   "metadata": {},
   "outputs": [
    {
     "name": "stdout",
     "output_type": "stream",
     "text": [
      "0.2897359729905486\n"
     ]
    }
   ],
   "source": [
    "evaluate_naive_method()"
   ]
  },
  {
   "cell_type": "code",
   "execution_count": 17,
   "metadata": {},
   "outputs": [],
   "source": [
    "celsius_mae = 0.29 * std[1]"
   ]
  },
  {
   "cell_type": "code",
   "execution_count": 18,
   "metadata": {},
   "outputs": [
    {
     "data": {
      "text/plain": [
       "2.5672247338393395"
      ]
     },
     "execution_count": 18,
     "metadata": {},
     "output_type": "execute_result"
    }
   ],
   "source": [
    "# 平均絶対誤差\n",
    "celsius_mae"
   ]
  },
  {
   "cell_type": "markdown",
   "metadata": {},
   "source": [
    "#### 機械学習の基本的なアプローチ"
   ]
  },
  {
   "cell_type": "markdown",
   "metadata": {},
   "source": [
    "RNNなどの複雑で計算負荷の高い機械学習モデルを調べる前には、<br>\n",
    "その前に、単純で計算負荷の低いモデルを試してみる。<br>"
   ]
  },
  {
   "cell_type": "code",
   "execution_count": 19,
   "metadata": {
    "scrolled": true
   },
   "outputs": [
    {
     "name": "stderr",
     "output_type": "stream",
     "text": [
      "Using TensorFlow backend.\n"
     ]
    },
    {
     "name": "stdout",
     "output_type": "stream",
     "text": [
      "Epoch 1/20\n",
      "500/500 [==============================] - 13s 27ms/step - loss: 1.4262 - val_loss: 0.7740\n",
      "Epoch 2/20\n",
      "500/500 [==============================] - 14s 27ms/step - loss: 0.5561 - val_loss: 0.3205\n",
      "Epoch 3/20\n",
      "500/500 [==============================] - 13s 25ms/step - loss: 0.3201 - val_loss: 0.3005\n",
      "Epoch 4/20\n",
      "500/500 [==============================] - 13s 26ms/step - loss: 0.2737 - val_loss: 0.3103\n",
      "Epoch 5/20\n",
      "500/500 [==============================] - 13s 26ms/step - loss: 0.2590 - val_loss: 0.3510\n",
      "Epoch 6/20\n",
      "500/500 [==============================] - 13s 25ms/step - loss: 0.2475 - val_loss: 0.3147\n",
      "Epoch 7/20\n",
      "500/500 [==============================] - 13s 26ms/step - loss: 0.2401 - val_loss: 0.3462\n",
      "Epoch 8/20\n",
      "500/500 [==============================] - 13s 26ms/step - loss: 0.2341 - val_loss: 0.3344\n",
      "Epoch 9/20\n",
      "500/500 [==============================] - 13s 26ms/step - loss: 0.2280 - val_loss: 0.3241\n",
      "Epoch 10/20\n",
      "500/500 [==============================] - 13s 26ms/step - loss: 0.2243 - val_loss: 0.3222\n",
      "Epoch 11/20\n",
      "500/500 [==============================] - 13s 26ms/step - loss: 0.2215 - val_loss: 0.3520\n",
      "Epoch 12/20\n",
      "500/500 [==============================] - 13s 26ms/step - loss: 0.2194 - val_loss: 0.3486\n",
      "Epoch 13/20\n",
      "500/500 [==============================] - 13s 26ms/step - loss: 0.2132 - val_loss: 0.3383\n",
      "Epoch 14/20\n",
      "500/500 [==============================] - 13s 26ms/step - loss: 0.2131 - val_loss: 0.3716\n",
      "Epoch 15/20\n",
      "500/500 [==============================] - 14s 28ms/step - loss: 0.2105 - val_loss: 0.3270\n",
      "Epoch 16/20\n",
      "500/500 [==============================] - 13s 25ms/step - loss: 0.2100 - val_loss: 0.3328\n",
      "Epoch 17/20\n",
      "500/500 [==============================] - 13s 25ms/step - loss: 0.2072 - val_loss: 0.3405\n",
      "Epoch 18/20\n",
      "500/500 [==============================] - 13s 25ms/step - loss: 0.2057 - val_loss: 0.3219\n",
      "Epoch 19/20\n",
      "500/500 [==============================] - 13s 26ms/step - loss: 0.2019 - val_loss: 0.3451\n",
      "Epoch 20/20\n",
      "500/500 [==============================] - 12s 25ms/step - loss: 0.2013 - val_loss: 0.3284\n"
     ]
    }
   ],
   "source": [
    "from keras.models import Sequential\n",
    "from keras import layers\n",
    "from keras.optimizers import RMSprop\n",
    "\n",
    "model = Sequential()\n",
    "model.add(layers.Flatten(input_shape=(lookback // step, float_data.shape[-1])))\n",
    "model.add(layers.Dense(32, activation='relu'))\n",
    "model.add(layers.Dense(1))\n",
    "\n",
    "model.compile(optimizer=RMSprop(), loss='mae')\n",
    "history = model.fit_generator(train_gen,\n",
    "                              steps_per_epoch=500,\n",
    "                              epochs=20,\n",
    "                              validation_data=val_gen,\n",
    "                              validation_steps=val_steps)"
   ]
  },
  {
   "cell_type": "code",
   "execution_count": 20,
   "metadata": {},
   "outputs": [
    {
     "data": {
      "image/png": "[encoded data removed]",
      "text/plain": [
       "<Figure size 432x288 with 1 Axes>"
      ]
     },
     "metadata": {},
     "output_type": "display_data"
    }
   ],
   "source": [
    "import matplotlib.pyplot as plt\n",
    "\n",
    "loss = history.history['loss']\n",
    "val_loss = history.history['val_loss']\n",
    "\n",
    "epochs = range(len(loss))\n",
    "\n",
    "plt.figure()\n",
    "\n",
    "plt.plot(epochs, loss, 'bo', label='Training loss')\n",
    "plt.plot(epochs, val_loss, 'b', label='Validation loss')\n",
    "plt.title('Training and validation loss')\n",
    "plt.legend()\n",
    "\n",
    "plt.show()"
   ]
  },
  {
   "cell_type": "markdown",
   "metadata": {},
   "source": [
    "### GRUを用いたリカレントベースライン"
   ]
  },
  {
   "cell_type": "code",
   "execution_count": 21,
   "metadata": {
    "scrolled": true
   },
   "outputs": [
    {
     "name": "stdout",
     "output_type": "stream",
     "text": [
      "Epoch 1/20\n",
      "500/500 [==============================] - 102s 204ms/step - loss: 0.2965 - val_loss: 0.2699\n",
      "Epoch 2/20\n",
      "500/500 [==============================] - 100s 201ms/step - loss: 0.2817 - val_loss: 0.2657\n",
      "Epoch 3/20\n",
      "500/500 [==============================] - 111s 221ms/step - loss: 0.2735 - val_loss: 0.2662\n",
      "Epoch 4/20\n",
      "500/500 [==============================] - 104s 209ms/step - loss: 0.2685 - val_loss: 0.2661\n",
      "Epoch 5/20\n",
      "500/500 [==============================] - 104s 209ms/step - loss: 0.2644 - val_loss: 0.2696\n",
      "Epoch 6/20\n",
      "500/500 [==============================] - 99s 198ms/step - loss: 0.2571 - val_loss: 0.2688\n",
      "Epoch 7/20\n",
      "500/500 [==============================] - 96s 192ms/step - loss: 0.2494 - val_loss: 0.2773\n",
      "Epoch 8/20\n",
      "500/500 [==============================] - 96s 192ms/step - loss: 0.2470 - val_loss: 0.2779\n",
      "Epoch 9/20\n",
      "500/500 [==============================] - 97s 194ms/step - loss: 0.2409 - val_loss: 0.2830\n",
      "Epoch 10/20\n",
      "500/500 [==============================] - 98s 196ms/step - loss: 0.2364 - val_loss: 0.2844\n",
      "Epoch 11/20\n",
      "500/500 [==============================] - 96s 193ms/step - loss: 0.2338 - val_loss: 0.2932\n",
      "Epoch 12/20\n",
      "500/500 [==============================] - 97s 194ms/step - loss: 0.2307 - val_loss: 0.2974\n",
      "Epoch 13/20\n",
      "500/500 [==============================] - 97s 193ms/step - loss: 0.2264 - val_loss: 0.2995\n",
      "Epoch 14/20\n",
      "500/500 [==============================] - 96s 192ms/step - loss: 0.2224 - val_loss: 0.3006\n",
      "Epoch 15/20\n",
      "500/500 [==============================] - 96s 192ms/step - loss: 0.2190 - val_loss: 0.3074\n",
      "Epoch 16/20\n",
      "500/500 [==============================] - 96s 193ms/step - loss: 0.2181 - val_loss: 0.3014\n",
      "Epoch 17/20\n",
      "500/500 [==============================] - 97s 194ms/step - loss: 0.2142 - val_loss: 0.3055\n",
      "Epoch 18/20\n",
      "500/500 [==============================] - 96s 193ms/step - loss: 0.2105 - val_loss: 0.3128\n",
      "Epoch 19/20\n",
      "500/500 [==============================] - 104s 209ms/step - loss: 0.2103 - val_loss: 0.3096\n",
      "Epoch 20/20\n",
      "500/500 [==============================] - 101s 202ms/step - loss: 0.2061 - val_loss: 0.3116\n"
     ]
    }
   ],
   "source": [
    "# GRUベースのモデルの訓練と評価\n",
    "from keras.models import Sequential\n",
    "from keras import layers\n",
    "from keras.optimizers import RMSprop\n",
    "\n",
    "model = Sequential()\n",
    "model.add(layers.GRU(32, input_shape=(None, float_data.shape[-1])))  # 出力, 特徴量の個数\n",
    "model.add(layers.Dense(1))\n",
    "\n",
    "model.compile(optimizer=RMSprop(), loss='mae')\n",
    "\n",
    "history = model.fit_generator(\n",
    "    train_gen,\n",
    "    steps_per_epoch=500,\n",
    "    epochs=20,\n",
    "    validation_data = val_gen,\n",
    "    validation_steps = val_steps\n",
    ")"
   ]
  },
  {
   "cell_type": "code",
   "execution_count": 22,
   "metadata": {},
   "outputs": [
    {
     "data": {
      "image/png": "[encoded data removed]",
      "text/plain": [
       "<Figure size 432x288 with 1 Axes>"
      ]
     },
     "metadata": {},
     "output_type": "display_data"
    }
   ],
   "source": [
    "loss = history.history['loss']\n",
    "val_loss = history.history['val_loss']\n",
    "\n",
    "epochs = range(len(loss))\n",
    "\n",
    "plt.figure()\n",
    "\n",
    "plt.plot(epochs, loss, 'bo', label='Training loss')\n",
    "plt.plot(epochs, val_loss, 'b', label='Validation loss')\n",
    "plt.title('Training and validation loss')\n",
    "plt.legend()\n",
    "\n",
    "plt.show()"
   ]
  },
  {
   "cell_type": "markdown",
   "metadata": {},
   "source": [
    "### リカレントドロップアウトを使って過学習を抑制する"
   ]
  },
  {
   "cell_type": "markdown",
   "metadata": {},
   "source": [
    "訓練データと検証データでの損失曲線から、このモデルが過学習に陥っていることがわかる。<br>\n",
    "ここで過学習を抑えるために、ドロップアウト層をRNNの前に適用すると考えるが、<br>\n",
    "リカレント層の前にドロップアウトを適用すると、学習の妨げになることがわかっている。<br>"
   ]
  },
  {
   "cell_type": "markdown",
   "metadata": {},
   "source": [
    "しかし、すべての時間刻みで同じドロップアウトマスクを使用すると、<br>\n",
    "ネットワークが時間の流れに沿って学習誤差を正しく伝搬できるようになる。<br>"
   ]
  },
  {
   "cell_type": "markdown",
   "metadata": {},
   "source": [
    "Kerasのすべてのリカレント層には、ドロップアウト関連のパラメータが２つ用意されている。<br>\n",
    "1つはdropoutであり、その層の入力ユニットのドロップアウト率を浮動小数点率で指定。<br>\n",
    "もう１つは、recurrent_dropoutであり、リカレントユニットのドロップアウト率を指定する。<br>"
   ]
  },
  {
   "cell_type": "code",
   "execution_count": 24,
   "metadata": {
    "scrolled": true
   },
   "outputs": [
    {
     "name": "stdout",
     "output_type": "stream",
     "text": [
      "Epoch 1/40\n",
      "500/500 [==============================] - 126s 252ms/step - loss: 0.3359 - val_loss: 0.2759\n",
      "Epoch 2/40\n",
      "500/500 [==============================] - 131s 262ms/step - loss: 0.3158 - val_loss: 0.2723\n",
      "Epoch 3/40\n",
      "500/500 [==============================] - 119s 237ms/step - loss: 0.3091 - val_loss: 0.2688\n",
      "Epoch 4/40\n",
      "500/500 [==============================] - 114s 229ms/step - loss: 0.3035 - val_loss: 0.2707\n",
      "Epoch 5/40\n",
      "500/500 [==============================] - 115s 230ms/step - loss: 0.2993 - val_loss: 0.2678\n",
      "Epoch 6/40\n",
      "500/500 [==============================] - 115s 229ms/step - loss: 0.2987 - val_loss: 0.2670\n",
      "Epoch 7/40\n",
      "500/500 [==============================] - 114s 227ms/step - loss: 0.2949 - val_loss: 0.2645\n",
      "Epoch 8/40\n",
      "500/500 [==============================] - 114s 227ms/step - loss: 0.2940 - val_loss: 0.2647\n",
      "Epoch 9/40\n",
      "500/500 [==============================] - 113s 227ms/step - loss: 0.2924 - val_loss: 0.2660\n",
      "Epoch 10/40\n",
      "500/500 [==============================] - 114s 228ms/step - loss: 0.2906 - val_loss: 0.2655\n",
      "Epoch 11/40\n",
      "500/500 [==============================] - 113s 227ms/step - loss: 0.2902 - val_loss: 0.2647\n",
      "Epoch 12/40\n",
      "500/500 [==============================] - 114s 228ms/step - loss: 0.2896 - val_loss: 0.2653\n",
      "Epoch 13/40\n",
      "500/500 [==============================] - 113s 226ms/step - loss: 0.2880 - val_loss: 0.2639\n",
      "Epoch 14/40\n",
      "500/500 [==============================] - 113s 227ms/step - loss: 0.2867 - val_loss: 0.2661\n",
      "Epoch 15/40\n",
      "500/500 [==============================] - 114s 228ms/step - loss: 0.2852 - val_loss: 0.2629\n",
      "Epoch 16/40\n",
      "500/500 [==============================] - 114s 227ms/step - loss: 0.2830 - val_loss: 0.2678\n",
      "Epoch 17/40\n",
      "500/500 [==============================] - 114s 227ms/step - loss: 0.2818 - val_loss: 0.2627\n",
      "Epoch 18/40\n",
      "500/500 [==============================] - 114s 227ms/step - loss: 0.2825 - val_loss: 0.2639\n",
      "Epoch 19/40\n",
      "500/500 [==============================] - 114s 227ms/step - loss: 0.2817 - val_loss: 0.2632\n",
      "Epoch 20/40\n",
      "500/500 [==============================] - 114s 229ms/step - loss: 0.2806 - val_loss: 0.2695\n",
      "Epoch 21/40\n",
      "500/500 [==============================] - 115s 229ms/step - loss: 0.2784 - val_loss: 0.2625\n",
      "Epoch 22/40\n",
      "500/500 [==============================] - 114s 228ms/step - loss: 0.2794 - val_loss: 0.2606\n",
      "Epoch 23/40\n",
      "500/500 [==============================] - 115s 230ms/step - loss: 0.2776 - val_loss: 0.2617\n",
      "Epoch 24/40\n",
      "500/500 [==============================] - 114s 229ms/step - loss: 0.2764 - val_loss: 0.2619\n",
      "Epoch 25/40\n",
      "500/500 [==============================] - 114s 229ms/step - loss: 0.2777 - val_loss: 0.2627\n",
      "Epoch 26/40\n",
      "500/500 [==============================] - 114s 229ms/step - loss: 0.2775 - val_loss: 0.2601\n",
      "Epoch 27/40\n",
      "500/500 [==============================] - 115s 229ms/step - loss: 0.2759 - val_loss: 0.2603\n",
      "Epoch 28/40\n",
      "500/500 [==============================] - 115s 229ms/step - loss: 0.2748 - val_loss: 0.2637\n",
      "Epoch 29/40\n",
      "500/500 [==============================] - 114s 228ms/step - loss: 0.2755 - val_loss: 0.2599\n",
      "Epoch 30/40\n",
      "500/500 [==============================] - 114s 228ms/step - loss: 0.2743 - val_loss: 0.2597\n",
      "Epoch 31/40\n",
      "500/500 [==============================] - 115s 229ms/step - loss: 0.2756 - val_loss: 0.2606\n",
      "Epoch 32/40\n",
      "500/500 [==============================] - 114s 229ms/step - loss: 0.2738 - val_loss: 0.2613\n",
      "Epoch 33/40\n",
      "500/500 [==============================] - 114s 228ms/step - loss: 0.2732 - val_loss: 0.2643\n",
      "Epoch 34/40\n",
      "500/500 [==============================] - 115s 229ms/step - loss: 0.2725 - val_loss: 0.2668\n",
      "Epoch 35/40\n",
      "500/500 [==============================] - 114s 229ms/step - loss: 0.2723 - val_loss: 0.2598\n",
      "Epoch 36/40\n",
      "500/500 [==============================] - 115s 230ms/step - loss: 0.2719 - val_loss: 0.2618\n",
      "Epoch 37/40\n",
      "500/500 [==============================] - 116s 231ms/step - loss: 0.2706 - val_loss: 0.2614\n",
      "Epoch 38/40\n",
      "500/500 [==============================] - 115s 229ms/step - loss: 0.2723 - val_loss: 0.2633\n",
      "Epoch 39/40\n",
      "500/500 [==============================] - 115s 229ms/step - loss: 0.2703 - val_loss: 0.2639\n",
      "Epoch 40/40\n",
      "500/500 [==============================] - 115s 229ms/step - loss: 0.2707 - val_loss: 0.2615\n"
     ]
    }
   ],
   "source": [
    "from keras.models import Sequential\n",
    "from keras import layers\n",
    "from keras.optimizers import RMSprop\n",
    "\n",
    "model = Sequential()\n",
    "model.add(layers.GRU(\n",
    "    32, dropout = 0.2, recurrent_dropout = 0.2, input_shape = (None, float_data.shape[-1])\n",
    "))\n",
    "model.add(layers.Dense(1))\n",
    "\n",
    "model.compile(optimizer=RMSprop(), loss='mae')\n",
    "history = model.fit_generator(train_gen,\n",
    "                             steps_per_epoch=500,\n",
    "                             epochs=40,\n",
    "                             validation_data=val_gen,\n",
    "                             validation_steps=val_steps)"
   ]
  },
  {
   "cell_type": "code",
   "execution_count": 25,
   "metadata": {},
   "outputs": [
    {
     "data": {
      "text/plain": [
       "<Figure size 432x288 with 0 Axes>"
      ]
     },
     "execution_count": 25,
     "metadata": {},
     "output_type": "execute_result"
    },
    {
     "data": {
      "image/png": "[encoded data removed]",
      "text/plain": [
       "<Figure size 432x288 with 1 Axes>"
      ]
     },
     "metadata": {},
     "output_type": "display_data"
    },
    {
     "data": {
      "text/plain": [
       "<Figure size 432x288 with 0 Axes>"
      ]
     },
     "metadata": {},
     "output_type": "display_data"
    }
   ],
   "source": [
    "loss = history.history['loss']\n",
    "val_loss = history.history['val_loss']\n",
    "\n",
    "epochs = range(len(loss))\n",
    "\n",
    "# 損失値をプロット\n",
    "plt.plot(epochs, loss, 'bo', label='Training loss')\n",
    "plt.plot(epochs, val_loss, 'b', label='Validation loss')\n",
    "plt.title('Training and validation losss')\n",
    "plt.legend()\n",
    "\n",
    "plt.figure()"
   ]
  },
  {
   "cell_type": "markdown",
   "metadata": {},
   "source": [
    "### リカレント層のスタッキング"
   ]
  },
  {
   "cell_type": "markdown",
   "metadata": {},
   "source": [
    "過学習に陥ることはなくなったが、性能にボトルネックがあることがわかる。<br>\n",
    "したがって、ネットワークのキャパシティを増やすことが重要になってくる。<br>"
   ]
  },
  {
   "cell_type": "markdown",
   "metadata": {},
   "source": [
    "過学習が主な障害物として立ちはだかるようになるまで、ネットワークのキャパシティを増加させることは良いこと。<br>"
   ]
  },
  {
   "cell_type": "markdown",
   "metadata": {},
   "source": [
    "ネットワークのキャパシティを増加させるには以下の方法が考えられる。<br>\n",
    "<ol>\n",
    "    <li>層のユニット数を増加させる。</li>\n",
    "    <li>層の数を増加させる。</li>\n",
    "</ol>"
   ]
  },
  {
   "cell_type": "markdown",
   "metadata": {},
   "source": [
    "Kerasで複数のリカレント層をスタックとして積み重ねるには、<br>\n",
    "すべての中間層が完全な出力シーケンスを返すようにする。<br>"
   ]
  },
  {
   "cell_type": "code",
   "execution_count": 27,
   "metadata": {
    "scrolled": true
   },
   "outputs": [
    {
     "name": "stdout",
     "output_type": "stream",
     "text": [
      "Epoch 1/40\n",
      "500/500 [==============================] - 275s 549ms/step - loss: 0.3380 - val_loss: 0.2801\n",
      "Epoch 2/40\n",
      "500/500 [==============================] - 287s 574ms/step - loss: 0.3151 - val_loss: 0.2742\n",
      "Epoch 3/40\n",
      "500/500 [==============================] - 295s 590ms/step - loss: 0.3058 - val_loss: 0.2709\n",
      "Epoch 4/40\n",
      "500/500 [==============================] - 285s 570ms/step - loss: 0.2999 - val_loss: 0.2702\n",
      "Epoch 5/40\n",
      "500/500 [==============================] - 286s 572ms/step - loss: 0.2990 - val_loss: 0.2648\n",
      "Epoch 6/40\n",
      "500/500 [==============================] - 281s 561ms/step - loss: 0.2942 - val_loss: 0.2637\n",
      "Epoch 7/40\n",
      "500/500 [==============================] - 291s 582ms/step - loss: 0.2892 - val_loss: 0.2642\n",
      "Epoch 8/40\n",
      "500/500 [==============================] - 290s 579ms/step - loss: 0.2875 - val_loss: 0.2651\n",
      "Epoch 9/40\n",
      "500/500 [==============================] - 287s 574ms/step - loss: 0.2851 - val_loss: 0.2681\n",
      "Epoch 10/40\n",
      "500/500 [==============================] - 403s 806ms/step - loss: 0.2810 - val_loss: 0.2694\n",
      "Epoch 11/40\n",
      "500/500 [==============================] - 449s 897ms/step - loss: 0.2806 - val_loss: 0.2682\n",
      "Epoch 12/40\n",
      "500/500 [==============================] - 463s 927ms/step - loss: 0.2796 - val_loss: 0.2746\n",
      "Epoch 13/40\n",
      "500/500 [==============================] - 468s 935ms/step - loss: 0.2775 - val_loss: 0.2717\n",
      "Epoch 14/40\n",
      "500/500 [==============================] - 495s 990ms/step - loss: 0.2768 - val_loss: 0.2644\n",
      "Epoch 15/40\n",
      "500/500 [==============================] - 587s 1s/step - loss: 0.2737 - val_loss: 0.2667\n",
      "Epoch 16/40\n",
      "500/500 [==============================] - 639s 1s/step - loss: 0.2752 - val_loss: 0.2687\n",
      "Epoch 17/40\n",
      "500/500 [==============================] - 575s 1s/step - loss: 0.2717 - val_loss: 0.2709\n",
      "Epoch 18/40\n",
      "500/500 [==============================] - 300s 599ms/step - loss: 0.2682 - val_loss: 0.2655\n",
      "Epoch 19/40\n",
      "500/500 [==============================] - 266s 532ms/step - loss: 0.2689 - val_loss: 0.2686\n",
      "Epoch 20/40\n",
      "500/500 [==============================] - 265s 529ms/step - loss: 0.2670 - val_loss: 0.2706\n",
      "Epoch 21/40\n",
      "500/500 [==============================] - 266s 531ms/step - loss: 0.2669 - val_loss: 0.2683\n",
      "Epoch 22/40\n",
      "500/500 [==============================] - 266s 531ms/step - loss: 0.2646 - val_loss: 0.2715\n",
      "Epoch 23/40\n",
      "500/500 [==============================] - 266s 532ms/step - loss: 0.2657 - val_loss: 0.2699\n",
      "Epoch 24/40\n",
      "500/500 [==============================] - 268s 536ms/step - loss: 0.2639 - val_loss: 0.2681\n",
      "Epoch 25/40\n",
      "500/500 [==============================] - 266s 532ms/step - loss: 0.2636 - val_loss: 0.2702\n",
      "Epoch 26/40\n",
      "500/500 [==============================] - 265s 530ms/step - loss: 0.2633 - val_loss: 0.2711\n",
      "Epoch 27/40\n",
      "500/500 [==============================] - 267s 533ms/step - loss: 0.2608 - val_loss: 0.2740\n",
      "Epoch 28/40\n",
      "500/500 [==============================] - 266s 532ms/step - loss: 0.2609 - val_loss: 0.2745\n",
      "Epoch 29/40\n",
      "500/500 [==============================] - 265s 529ms/step - loss: 0.2609 - val_loss: 0.2707\n",
      "Epoch 30/40\n",
      "500/500 [==============================] - 265s 530ms/step - loss: 0.2582 - val_loss: 0.2717\n",
      "Epoch 31/40\n",
      "500/500 [==============================] - 266s 532ms/step - loss: 0.2602 - val_loss: 0.2682\n",
      "Epoch 32/40\n",
      "500/500 [==============================] - 267s 534ms/step - loss: 0.2587 - val_loss: 0.2697\n",
      "Epoch 33/40\n",
      "500/500 [==============================] - 264s 527ms/step - loss: 0.2582 - val_loss: 0.2714\n",
      "Epoch 34/40\n",
      "500/500 [==============================] - 266s 531ms/step - loss: 0.2571 - val_loss: 0.2699\n",
      "Epoch 35/40\n",
      "500/500 [==============================] - 264s 529ms/step - loss: 0.2562 - val_loss: 0.2715\n",
      "Epoch 36/40\n",
      "500/500 [==============================] - 265s 531ms/step - loss: 0.2552 - val_loss: 0.2750\n",
      "Epoch 37/40\n",
      "500/500 [==============================] - 267s 533ms/step - loss: 0.2557 - val_loss: 0.2702\n",
      "Epoch 38/40\n",
      "500/500 [==============================] - 268s 536ms/step - loss: 0.2553 - val_loss: 0.2747\n",
      "Epoch 39/40\n",
      "500/500 [==============================] - 265s 531ms/step - loss: 0.2543 - val_loss: 0.2728\n",
      "Epoch 40/40\n",
      "500/500 [==============================] - 265s 530ms/step - loss: 0.2553 - val_loss: 0.2748\n"
     ]
    }
   ],
   "source": [
    "from keras.models import Sequential\n",
    "from keras import layers\n",
    "from keras.optimizers import RMSprop\n",
    "\n",
    "model = Sequential()\n",
    "model.add(layers.GRU(32, dropout = 0.1,\n",
    "                    recurrent_dropout = 0.5,\n",
    "                     return_sequences = True, # 3次元\n",
    "                     input_shape = (None, float_data.shape[-1])\n",
    "                    ))\n",
    "model.add(layers.GRU(64,\n",
    "                    activation = 'relu',\n",
    "                    dropout = 0.1,\n",
    "                    recurrent_dropout=0.5))\n",
    "model.add(layers.Dense(1))\n",
    "\n",
    "model.compile(optimizer=RMSprop(), loss='mae')\n",
    "history = model.fit_generator(train_gen,\n",
    "                              steps_per_epoch=500,\n",
    "                              epochs=40,\n",
    "                              validation_data=val_gen,\n",
    "                              validation_steps=val_steps)"
   ]
  },
  {
   "cell_type": "code",
   "execution_count": 30,
   "metadata": {},
   "outputs": [
    {
     "data": {
      "image/png": "[encoded data removed]",
      "text/plain": [
       "<Figure size 432x288 with 1 Axes>"
      ]
     },
     "metadata": {},
     "output_type": "display_data"
    }
   ],
   "source": [
    "# 誤差をグラフにする\n",
    "loss = history.history['loss']\n",
    "val_loss = history.history['val_loss']\n",
    "\n",
    "epochs = range(len(loss))\n",
    "\n",
    "plt.figure()\n",
    "\n",
    "plt.plot(epochs, loss, 'bo', label='Training loss')\n",
    "plt.plot(epochs, val_loss, 'b', label='Validation loss')\n",
    "plt.title('Training and validation loss')\n",
    "plt.legend()\n",
    "\n",
    "plt.show()"
   ]
  },
  {
   "cell_type": "markdown",
   "metadata": {},
   "source": [
    "層を追加したことにより結果が少しだけ改善したことがわかる。<br>\n",
    "しかし、それほど大きな改善ではない。<br>\n",
    "以下のことが考えられる。<br>\n",
    "<ul>\n",
    "    <li>まだ、過学習はそれほどひどくないため、検証データでの損失値の改善を目指して、層のサイズを大きくしてもOK。</li>\n",
    "    <li>層を追加しても大きな改善は見られなかったため、ここで終わりにするという見方もできる。</li>\n",
    "</ul>"
   ]
  },
  {
   "cell_type": "code",
   "execution_count": null,
   "metadata": {},
   "outputs": [],
   "source": []
  }
 ],
 "metadata": {
  "kernelspec": {
   "display_name": "Python 3",
   "language": "python",
   "name": "python3"
  },
  "language_info": {
   "codemirror_mode": {
    "name": "ipython",
    "version": 3
   },
   "file_extension": ".py",
   "mimetype": "text/x-python",
   "name": "python",
   "nbconvert_exporter": "python",
   "pygments_lexer": "ipython3",
   "version": "3.6.1"
  }
 },
 "nbformat": 4,
 "nbformat_minor": 2
}
