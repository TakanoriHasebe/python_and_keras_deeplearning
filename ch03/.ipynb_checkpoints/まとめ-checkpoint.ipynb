{
 "cells": [
  {
   "cell_type": "markdown",
   "metadata": {},
   "source": [
    "## まとめ"
   ]
  },
  {
   "cell_type": "markdown",
   "metadata": {},
   "source": [
    "・入力データの特徴量がそれぞれ異なる範囲をとる場合は、前処理の一部として各特徴量の尺度を「個別に」調節。<br>\n",
    "・訓練を重ねるうちに過学習に陥り、新しいデータでの性能は悪くなる。<br>\n",
    "・訓練データが十分でない場合は、隠れ層が１つか２つの小さなネットワークを利用。<br>\n",
    "・回帰と分類とでは、使用する損失関数と評価指標モデルが異なる。<br>\n",
    "・利用するデータが少ない場合は、モデルを評価するのにk分割交差検証が役立つ。<br>"
   ]
  }
 ],
 "metadata": {
  "kernelspec": {
   "display_name": "Python 3",
   "language": "python",
   "name": "python3"
  },
  "language_info": {
   "codemirror_mode": {
    "name": "ipython",
    "version": 3
   },
   "file_extension": ".py",
   "mimetype": "text/x-python",
   "name": "python",
   "nbconvert_exporter": "python",
   "pygments_lexer": "ipython3",
   "version": "3.6.1"
  }
 },
 "nbformat": 4,
 "nbformat_minor": 2
}
