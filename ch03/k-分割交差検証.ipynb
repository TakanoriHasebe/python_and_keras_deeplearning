{
 "cells": [
  {
   "cell_type": "code",
   "execution_count": 1,
   "metadata": {},
   "outputs": [
    {
     "name": "stdout",
     "output_type": "stream",
     "text": [
      "[0 1 2 4 5 7 8 9] [3 6]\n",
      "[0 1 2 3 4 6 7 8] [5 9]\n",
      "[0 2 3 5 6 7 8 9] [1 4]\n",
      "[0 1 3 4 5 6 7 9] [2 8]\n",
      "[1 2 3 4 5 6 8 9] [0 7]\n"
     ]
    }
   ],
   "source": [
    "import numpy as np\n",
    "from sklearn.model_selection import KFold\n",
    "x = np.array([[1, 2], [3, 4], [4, 3], [1, 2], [3, 4], [5, 6], [6, 4], [1, 2], [2, 2], [1, 2]])\n",
    "y = np.array([1, 0, 0, 1, 0, 0, 0, 1, 1, 1])\n",
    "kf = KFold(n_splits = 5, shuffle = True)\n",
    "\n",
    "for train_index, test_index in kf.split(x):\n",
    "    print(train_index, test_index)"
   ]
  },
  {
   "cell_type": "code",
   "execution_count": null,
   "metadata": {},
   "outputs": [],
   "source": []
  }
 ],
 "metadata": {
  "kernelspec": {
   "display_name": "Python 3",
   "language": "python",
   "name": "python3"
  },
  "language_info": {
   "codemirror_mode": {
    "name": "ipython",
    "version": 3
   },
   "file_extension": ".py",
   "mimetype": "text/x-python",
   "name": "python",
   "nbconvert_exporter": "python",
   "pygments_lexer": "ipython3",
   "version": "3.6.1"
  }
 },
 "nbformat": 4,
 "nbformat_minor": 2
}
