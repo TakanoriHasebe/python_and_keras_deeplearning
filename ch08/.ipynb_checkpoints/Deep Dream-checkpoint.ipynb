{
 "cells": [
  {
   "cell_type": "markdown",
   "metadata": {},
   "source": [
    "### 実装"
   ]
  },
  {
   "cell_type": "markdown",
   "metadata": {},
   "source": [
    "CNNの選択は可視化に影響を与えることになる。<br>"
   ]
  },
  {
   "cell_type": "code",
   "execution_count": 1,
   "metadata": {},
   "outputs": [
    {
     "name": "stdout",
     "output_type": "stream",
     "text": [
      "Downloading data from https://github.com/fchollet/deep-learning-models/releases/download/v0.5/inception_v3_weights_tf_dim_ordering_tf_kernels_notop.h5\n",
      "87916544/87910968 [==============================] - 233s 3us/step\n"
     ]
    }
   ],
   "source": [
    "# 学習済みのInception V3モデルを読み込む\n",
    "from keras.applications import inception_v3\n",
    "from keras import backend as K\n",
    "\n",
    "# ここではモデルを訓練しないため、訓練関係の演算を全て無効にする。\n",
    "K.set_learning_phase(0)\n",
    "\n",
    "# InceptionV3ネットワークを畳み込みベースなしで構築\n",
    "# このモデルは学習済みのImageNetの重み付きで読み込まれる\n",
    "model = inception_v3.InceptionV3(weights='imagenet',\n",
    "                                 include_top=False)"
   ]
  },
  {
   "cell_type": "code",
   "execution_count": 6,
   "metadata": {},
   "outputs": [],
   "source": [
    "# DeepDreamの構成\n",
    "\n",
    "#　層の名前を係数にマッピングするディクショナリ。この係数は最大化の対象となる\n",
    "# 損失値にその層の活性化がどれくらい貢献するのかを示す。これらの層の名前は\n",
    "# 組み込みのInception V3アプリケーションにハードコーディングされていることに注意。\n",
    "# 全ての層の名前はmodel.summary()で確認可能。\n",
    "\n",
    "layer_contributions = {\n",
    "    'mixed2': 0.2,\n",
    "    'mixed3': 3.,\n",
    "    'mixed4': 2.,\n",
    "    'mixed5': 1.5,\n",
    "}"
   ]
  },
  {
   "cell_type": "code",
   "execution_count": 7,
   "metadata": {},
   "outputs": [
    {
     "name": "stdout",
     "output_type": "stream",
     "text": [
      "WARNING:tensorflow:Variable += will be deprecated. Use variable.assign_add if you want assignment to the variable value or 'x = x + y' if you want a new python Tensor object.\n"
     ]
    }
   ],
   "source": [
    "# 最大化の対象となる損失値を定義\n",
    "\n",
    "# 層の名前を層のインスタンスにマッピングするディクショナリを作成\n",
    "layer_dict = dict([(layer.name, layer) for layer in model.layers])\n",
    "\n",
    "# 損失値を定義\n",
    "loss = K.variable(0.)\n",
    "for layer_name in layer_contributions:\n",
    "    coeff = layer_contributions[layer_name]\n",
    "    \n",
    "    # 層の出力を取得\n",
    "    activation = layer_dict[layer_name].output\n",
    "    \n",
    "    scaling = K.prod(K.cast(K.shape(activation), 'float32'))\n",
    "    \n",
    "    # 層の特徴量のL2ノルムをlossに加算\n",
    "    # 非境界ピクセルのみをlossに適用することで、周辺効果を回避\n",
    "    loss += coeff * K.sum(K.square(activation[:, 2: -2, 2: -2, :])) / scaling"
   ]
  },
  {
   "cell_type": "code",
   "execution_count": 8,
   "metadata": {},
   "outputs": [],
   "source": [
    "# 勾配上昇法のプロセス\n",
    "\n",
    "# 生成された画像（ドリーム）を保持するテンソル\n",
    "dream = model.input\n",
    "\n",
    "# ドリームの損失関数の勾配を計算\n",
    "grads = K.gradients(loss, dream)[0]\n",
    "\n",
    "# 勾配を正規化（重要）\n",
    "grads /= K.maximum(K.mean(K.abs(grads)), 1e-7)\n",
    "\n",
    "# 入力画像に基づいて損失と勾配の値を取得する取得するKeras関数を設定\n",
    "outputs = [loss, grads]\n",
    "fetch_loss_and_grads = K.function([dream], outputs)\n",
    "\n",
    "def eval_loss_and_grads(x):\n",
    "    outs = fetch_loss_and_grads([x])\n",
    "    loss_value = outs[0]\n",
    "    grad_values = outs[1]\n",
    "    return loss_value, grad_values\n",
    "\n",
    "# 勾配上昇法を指定された回数にわたって実行する関数\n",
    "def gradient_ascent(x, iterations, step, max_loss=None):\n",
    "    for i in range(iterations):\n",
    "        loss_value, grad_values = eval_loss_and_grads(x)\n",
    "        if max_loss is not None and loss_value > max_loss:\n",
    "            break\n",
    "        print('...Loss value at', i, ':', loss_value)\n",
    "        x += step * grad_values\n",
    "    return x"
   ]
  },
  {
   "cell_type": "code",
   "execution_count": 12,
   "metadata": {},
   "outputs": [],
   "source": [
    "import scipy\n",
    "from keras.preprocessing import image\n",
    "\n",
    "# 画像のサイズを変更\n",
    "def resize_img(img, size):\n",
    "    img = np.copy(img)\n",
    "    factors = (1,\n",
    "               float(size[0]) / img.shape[1],\n",
    "               float(size[1]) / img.shape[2],\n",
    "               1)\n",
    "    return scipy.ndimage.zoom(img, factors, order=1)\n",
    "\n",
    "# 画像を保存\n",
    "def save_img(img, fname):\n",
    "    pil_img = deprocess_image(np.copy(img))\n",
    "    scipy.misc.imsave(fname, pil_img)\n",
    "\n",
    "# 画像を開いてサイズを変更し、Inception V3が処理できるテンソルに変換\n",
    "def preprocess_image(image_path):\n",
    "    img = image.load_img(image_path)\n",
    "    img = image.img_to_array(img)\n",
    "    img = np.expand_dims(img, axis=0)\n",
    "    img = inception_v3.preprocess_input(img)\n",
    "    return img\n",
    "\n",
    "# テンソルを有効な画像に変換\n",
    "def deprocess_image(x):\n",
    "    \n",
    "    if K.image_data_format() == 'channels_first':\n",
    "        x = x.reshape((3, x.shape[2], x.shape[3]))\n",
    "        x = x.transpose((1, 2, 0))\n",
    "    else:\n",
    "        x = x.reshape((x.shape[1], x.shape[2], 3))\n",
    "    x /= 2.\n",
    "    x += 0.5\n",
    "    x *= 255.\n",
    "    x = np.clip(x, 0, 255).astype('uint8')\n",
    "    return x"
   ]
  },
  {
   "cell_type": "code",
   "execution_count": 13,
   "metadata": {
    "scrolled": true
   },
   "outputs": [
    {
     "name": "stderr",
     "output_type": "stream",
     "text": [
      "/Users/Takanori/anaconda/lib/python3.6/site-packages/scipy/ndimage/interpolation.py:583: UserWarning: From scipy 0.13.0, the output shape of zoom() is calculated with round() instead of int() - for these inputs the size of the returned array has changed.\n",
      "  \"the returned array has changed.\", UserWarning)\n"
     ]
    },
    {
     "name": "stdout",
     "output_type": "stream",
     "text": [
      "Processing image shape (485, 326)\n",
      "...Loss value at 0 : 1.6145931\n",
      "...Loss value at 1 : 2.1762729\n",
      "...Loss value at 2 : 2.9225261\n",
      "...Loss value at 3 : 3.726101\n",
      "...Loss value at 4 : 4.563347\n",
      "...Loss value at 5 : 5.3408237\n",
      "...Loss value at 6 : 6.0681214\n",
      "...Loss value at 7 : 6.7484293\n",
      "...Loss value at 8 : 7.4300327\n",
      "...Loss value at 9 : 8.08388\n",
      "...Loss value at 10 : 8.701821\n",
      "...Loss value at 11 : 9.316474\n",
      "...Loss value at 12 : 9.895308\n"
     ]
    },
    {
     "name": "stderr",
     "output_type": "stream",
     "text": [
      "/Users/Takanori/anaconda/lib/python3.6/site-packages/ipykernel_launcher.py:15: DeprecationWarning: `imsave` is deprecated!\n",
      "`imsave` is deprecated in SciPy 1.0.0, and will be removed in 1.2.0.\n",
      "Use ``imageio.imwrite`` instead.\n",
      "  from ipykernel import kernelapp as app\n"
     ]
    },
    {
     "name": "stdout",
     "output_type": "stream",
     "text": [
      "Processing image shape (680, 457)\n",
      "...Loss value at 0 : 3.2396662\n",
      "...Loss value at 1 : 4.692557\n",
      "...Loss value at 2 : 5.8664327\n",
      "...Loss value at 3 : 6.8481517\n",
      "...Loss value at 4 : 7.752559\n",
      "...Loss value at 5 : 8.560488\n",
      "...Loss value at 6 : 9.339886\n",
      "Processing image shape (952, 640)\n",
      "...Loss value at 0 : 3.150486\n",
      "...Loss value at 1 : 4.5101795\n",
      "...Loss value at 2 : 5.647405\n",
      "...Loss value at 3 : 6.6501184\n",
      "...Loss value at 4 : 7.5567083\n",
      "...Loss value at 5 : 8.450484\n",
      "...Loss value at 6 : 9.28908\n"
     ]
    }
   ],
   "source": [
    "import numpy as np\n",
    "\n",
    "# これらのハイパーパラメータで色々な値を試してみることでも、\n",
    "# 新しい効果が得られる\n",
    "\n",
    "step = 0.01  # 勾配上昇法のステップサイズ\n",
    "num_octave = 3  # 勾配上昇法を実行する尺度の数\n",
    "octave_scale = 1.4  # 尺度間の拡大率\n",
    "iterations = 20  # 尺度ごとの上昇ステップの数\n",
    "\n",
    "max_loss = 10.\n",
    "\n",
    "base_image_path = 'photo.jpg'\n",
    "\n",
    "# image to Numpy\n",
    "img = preprocess_image(base_image_path)\n",
    "\n",
    "# 勾配上昇法を実行する様々な尺度を定義する形状タプルのリストを準備\n",
    "original_shape = img.shape[1:3]\n",
    "successive_shapes = [original_shape]\n",
    "for i in range(1, num_octave):\n",
    "    shape = tuple([int(dim / (octave_scale ** i)) for dim in original_shape])\n",
    "    successive_shapes.append(shape)\n",
    "\n",
    "# 形状リストを逆にして昇順になるようにする\n",
    "successive_shapes = successive_shapes[::-1]\n",
    "\n",
    "# 画像のNumpy配列のサイズを最も小さな尺度に変換\n",
    "original_img = np.copy(img)\n",
    "shrunk_original_img = resize_img(img, successive_shapes[0])\n",
    "\n",
    "for shape in successive_shapes:\n",
    "    print('Processing image shape', shape)\n",
    "    img = resize_img(img, shape)\n",
    "    img = gradient_ascent(img,\n",
    "                          iterations=iterations,\n",
    "                          step=step,\n",
    "                          max_loss=max_loss)\n",
    "    upscaled_shrunk_original_img = resize_img(shrunk_original_img, shape)\n",
    "    same_size_original = resize_img(original_img, shape)\n",
    "    lost_detail = same_size_original - upscaled_shrunk_original_img\n",
    "\n",
    "    img += lost_detail\n",
    "    shrunk_original_img = resize_img(original_img, shape)\n",
    "    save_img(img, fname='dream_at_scale_' + str(shape) + '.png')\n",
    "\n",
    "save_img(img, fname='final_dream.png')"
   ]
  },
  {
   "cell_type": "code",
   "execution_count": null,
   "metadata": {},
   "outputs": [],
   "source": []
  }
 ],
 "metadata": {
  "kernelspec": {
   "display_name": "Python 3",
   "language": "python",
   "name": "python3"
  },
  "language_info": {
   "codemirror_mode": {
    "name": "ipython",
    "version": 3
   },
   "file_extension": ".py",
   "mimetype": "text/x-python",
   "name": "python",
   "nbconvert_exporter": "python",
   "pygments_lexer": "ipython3",
   "version": "3.6.6"
  }
 },
 "nbformat": 4,
 "nbformat_minor": 2
}
